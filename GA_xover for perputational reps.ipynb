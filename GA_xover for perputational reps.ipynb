{
 "cells": [
  {
   "cell_type": "markdown",
   "metadata": {},
   "source": [
    "### Libraries"
   ]
  },
  {
   "cell_type": "code",
   "execution_count": 181,
   "metadata": {},
   "outputs": [],
   "source": [
    "import random\n",
    "import numpy as np"
   ]
  },
  {
   "cell_type": "markdown",
   "metadata": {},
   "source": [
    "### Functions"
   ]
  },
  {
   "cell_type": "code",
   "execution_count": 236,
   "metadata": {},
   "outputs": [],
   "source": [
    "def order1_xover(p1, p2):\n",
    "    \n",
    "    if len(p1)!=len(p2): return 'Error: Chromosome sizes not equal'\n",
    "    \n",
    "    size = len(p1)\n",
    "    c1 = ['x'] * size\n",
    "    c2 = ['x'] * size\n",
    "    \n",
    "    select = random.choices( range(size), k=2 )\n",
    "    select.sort()\n",
    "    \n",
    "    c1[select[0]:select[1]+1] = p1[select[0]:select[1]+1]\n",
    "    c2[select[0]:select[1]+1] = p2[select[0]:select[1]+1]\n",
    "    \n",
    "    k = 1\n",
    "    j = 1\n",
    "    while np.sum([i == 'x' for i in c1]) > 0:\n",
    "        if p2[ (select[1] + k) % (size) ] in c1: k += 1\n",
    "        else:\n",
    "            c1[ (select[1] + j) % (size) ] = p2[ (select[1] + k) % (size) ]\n",
    "            j += 1\n",
    "\n",
    "    k = 1\n",
    "    j = 1\n",
    "    while np.sum([i == 'x' for i in c2]) > 0:\n",
    "        if p1[ (select[1] + k) % (size) ] in c2: k += 1\n",
    "        else:\n",
    "            c2[ (select[1] + j) % (size) ] = p1[ (select[1] + k) % (size) ]\n",
    "            j += 1\n",
    "    \n",
    "    return (c1,c2)"
   ]
  },
  {
   "cell_type": "code",
   "execution_count": 344,
   "metadata": {},
   "outputs": [],
   "source": [
    "def pmx(p1, p2):\n",
    "    \n",
    "    print('Parent 1 :',p1)\n",
    "    print('Parent 2 :',p2)\n",
    "    print('  ')\n",
    "    \n",
    "    if len(p1)!=len(p2): return 'Error: Chromosome sizes not equal'\n",
    "    \n",
    "    size = len(p1)\n",
    "    c1 = ['x'] * size\n",
    "    c2 = ['x'] * size\n",
    "    \n",
    "    # select two points on the chromosome randomly\n",
    "    select = random.choices( range(size), k=2 )\n",
    "    select.sort()\n",
    "    \n",
    "    # copy selected parts of parents to the children\n",
    "    c1[select[0]:select[1]+1] = p1[select[0]:select[1]+1]\n",
    "    c2[select[0]:select[1]+1] = p2[select[0]:select[1]+1]\n",
    "    \n",
    "    print('Child 1 :',c1)\n",
    "    print('Child 2 :',c2)\n",
    "    print('  ')\n",
    "\n",
    "# --------------------------------------------------------------\n",
    "# fill child 1 from parent 2\n",
    "\n",
    "    for t in range( select[1] - select[0] + 1 ):\n",
    "\n",
    "        num = p2[select[0]+t]\n",
    "        print('selected element from p2:',num)\n",
    "\n",
    "        if num not in c1:\n",
    "\n",
    "            temp_index = select[0]+t\n",
    "            numtry = 0\n",
    "\n",
    "            while True:\n",
    "                if c1 [ p2.index(p1[temp_index]) ] == 'x':\n",
    "                    c1 [ p2.index(p1[temp_index]) ] = num\n",
    "                    print('Added ',num, ' to gene ', p2.index(p1[temp_index]),' of the Child')\n",
    "                    print(c1)\n",
    "                    print('  ')\n",
    "                    break\n",
    "                else:\n",
    "                    temp_index = p2.index(p1[temp_index])\n",
    "                    print(p2[temp_index],'-',p1[temp_index])\n",
    "                    numtry +=1\n",
    "                if numtry == len (p1):\n",
    "                    print('Could not add ',num, 'to the Child')\n",
    "                    print('  ')\n",
    "                    break\n",
    "        else:\n",
    "            print(num, ' is already in child 1')\n",
    "            print('   ')\n",
    "\n",
    "    k = 1\n",
    "    j = 1\n",
    "    while np.sum([i == 'x' for i in c1]) > 0:\n",
    "        if c1[ (select[1] + k) % (size) ] == 'x':\n",
    "            if p2[(select[1] + j) % (size)] not in c1:\n",
    "                c1[(select[1] + k) % (size)] = p2[(select[1] + j) % (size)]\n",
    "            else: j +=1\n",
    "        else:\n",
    "            k += 1\n",
    "    print('Filling up the rest empty genes from parent 2')\n",
    "    print('   ')\n",
    "    print('Child 1: ', c1)\n",
    "    print('-------------')\n",
    "    print('     ')\n",
    "    \n",
    "# -------------------------------------------------\n",
    "# fill child 2 from parent 1\n",
    "    \n",
    "    for t in range( select[1] - select[0] + 1 ):\n",
    "\n",
    "        num = p1[select[0]+t]\n",
    "        print('selected element from p1:',num)\n",
    "\n",
    "        if num not in c2:\n",
    "\n",
    "            temp_index = select[0]+t\n",
    "            numtry = 0\n",
    "\n",
    "            while True:\n",
    "                if c2 [ p2.index(p2[temp_index]) ] == 'x':\n",
    "                    c2 [ p1.index(p2[temp_index]) ] = num\n",
    "                    print('Added ',num, ' to gene ', p2.index(p1[temp_index]),' of the Child')\n",
    "                    print(c2)\n",
    "                    print('  ')\n",
    "                    break\n",
    "                else:\n",
    "                    temp_index = p1.index(p2[temp_index])\n",
    "                    print(p1[temp_index],'-',p2[temp_index])\n",
    "                    numtry +=1\n",
    "                if numtry == len (p2):\n",
    "                    print('Could not add ',num, 'to the Child')\n",
    "                    print('  ')\n",
    "                    break\n",
    "        else:\n",
    "            print(num, ' is already in child 2')\n",
    "            print('   ')\n",
    "\n",
    "    k = 1\n",
    "    j = 1\n",
    "    while np.sum([i == 'x' for i in c2]) > 0:\n",
    "        if c2[ (select[1] + k) % (size) ] == 'x':\n",
    "            if p1[(select[1] + j) % (size)] not in c2:\n",
    "                c2[(select[1] + k) % (size)] = p1[(select[1] + j) % (size)]\n",
    "            else: j +=1\n",
    "        else:\n",
    "            k += 1\n",
    "\n",
    "    print('Child 2: ', c2)\n",
    "        \n",
    "    \n",
    "    return (c1,c2)"
   ]
  },
  {
   "cell_type": "markdown",
   "metadata": {},
   "source": [
    "### Main"
   ]
  },
  {
   "cell_type": "code",
   "execution_count": 345,
   "metadata": {},
   "outputs": [],
   "source": [
    "p1 = [1,2,3,4,5,6,7,8,9]\n",
    "p2 = [9,3,7,8,2,6,5,1,4]"
   ]
  },
  {
   "cell_type": "code",
   "execution_count": 346,
   "metadata": {},
   "outputs": [
    {
     "data": {
      "text/plain": [
       "([1, 2, 3, 4, 5, 6, 7, 8, 9], [9, 3, 7, 8, 2, 6, 5, 1, 4])"
      ]
     },
     "execution_count": 346,
     "metadata": {},
     "output_type": "execute_result"
    }
   ],
   "source": [
    "order1_xover(p1,p2)"
   ]
  },
  {
   "cell_type": "code",
   "execution_count": 347,
   "metadata": {},
   "outputs": [
    {
     "name": "stdout",
     "output_type": "stream",
     "text": [
      "Parent 1 : [1, 2, 3, 4, 5, 6, 7, 8, 9]\n",
      "Parent 2 : [9, 3, 7, 8, 2, 6, 5, 1, 4]\n",
      "  \n",
      "Child 1 : [1, 2, 3, 'x', 'x', 'x', 'x', 'x', 'x']\n",
      "Child 2 : [9, 3, 7, 'x', 'x', 'x', 'x', 'x', 'x']\n",
      "  \n",
      "selected element from p2: 9\n",
      "Added  9  to gene  7  of the Child\n",
      "[1, 2, 3, 'x', 'x', 'x', 'x', 9, 'x']\n",
      "  \n",
      "selected element from p2: 3\n",
      "3  is already in child 1\n",
      "   \n",
      "selected element from p2: 7\n",
      "3 - 2\n",
      "Added  7  to gene  4  of the Child\n",
      "[1, 2, 3, 'x', 7, 'x', 'x', 9, 'x']\n",
      "  \n",
      "Filling up the rest empty genes from parent 2\n",
      "   \n",
      "Child 1:  [1, 2, 3, 8, 7, 6, 5, 9, 4]\n",
      "-------------\n",
      "     \n",
      "selected element from p1: 1\n",
      "9 - 4\n",
      "Added  1  to gene  0  of the Child\n",
      "[9, 3, 7, 1, 'x', 'x', 'x', 'x', 'x']\n",
      "  \n",
      "selected element from p1: 2\n",
      "3 - 7\n",
      "7 - 5\n",
      "Added  2  to gene  2  of the Child\n",
      "[9, 3, 7, 1, 2, 'x', 'x', 'x', 'x']\n",
      "  \n",
      "selected element from p1: 3\n",
      "3  is already in child 2\n",
      "   \n",
      "Child 2:  [9, 3, 7, 1, 2, 4, 5, 6, 8]\n"
     ]
    },
    {
     "data": {
      "text/plain": [
       "([1, 2, 3, 8, 7, 6, 5, 9, 4], [9, 3, 7, 1, 2, 4, 5, 6, 8])"
      ]
     },
     "execution_count": 347,
     "metadata": {},
     "output_type": "execute_result"
    }
   ],
   "source": [
    "pmx(p1,p2)"
   ]
  },
  {
   "cell_type": "code",
   "execution_count": null,
   "metadata": {},
   "outputs": [],
   "source": []
  }
 ],
 "metadata": {
  "kernelspec": {
   "display_name": "Python 3",
   "language": "python",
   "name": "python3"
  },
  "language_info": {
   "codemirror_mode": {
    "name": "ipython",
    "version": 3
   },
   "file_extension": ".py",
   "mimetype": "text/x-python",
   "name": "python",
   "nbconvert_exporter": "python",
   "pygments_lexer": "ipython3",
   "version": "3.6.4"
  }
 },
 "nbformat": 4,
 "nbformat_minor": 2
}
